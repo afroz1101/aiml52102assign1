{
  "nbformat": 4,
  "nbformat_minor": 0,
  "metadata": {
    "colab": {
      "name": "2003a52102.ipynb",
      "provenance": []
    },
    "kernelspec": {
      "name": "python3",
      "display_name": "Python 3"
    },
    "language_info": {
      "name": "python"
    }
  },
  "cells": [
    {
      "cell_type": "code",
      "execution_count": 1,
      "metadata": {
        "colab": {
          "base_uri": "https://localhost:8080/"
        },
        "id": "202s9igE2BZy",
        "outputId": "d8ae00f4-e423-40a1-f57d-75e6b53f7e34"
      },
      "outputs": [
        {
          "output_type": "stream",
          "name": "stdout",
          "text": [
            "Mounted at /gdrive\n",
            "/gdrive\n"
          ]
        }
      ],
      "source": [
        "from google.colab import drive\n",
        "drive.mount('/gdrive')\n",
        "%cd /gdrive"
      ]
    },
    {
      "cell_type": "code",
      "source": [
        "import pandas as pd"
      ],
      "metadata": {
        "id": "l97shvSu3Gl1"
      },
      "execution_count": 2,
      "outputs": []
    },
    {
      "cell_type": "code",
      "source": [
        "d=pd.read_csv('/content/Shill Bidding Dataset (1).csv')"
      ],
      "metadata": {
        "id": "WcxxdeTT3NUl"
      },
      "execution_count": 3,
      "outputs": []
    },
    {
      "cell_type": "code",
      "source": [
        "print(d)\n"
      ],
      "metadata": {
        "colab": {
          "base_uri": "https://localhost:8080/"
        },
        "id": "nhxkLn9Y4lG7",
        "outputId": "f88661fd-4eb5-4e8c-9574-512de7b12cbe"
      },
      "execution_count": 4,
      "outputs": [
        {
          "output_type": "stream",
          "name": "stdout",
          "text": [
            "      Record_ID  Auction_ID Bidder_ID  Bidder_Tendency  Bidding_Ratio  \\\n",
            "0             1         732     _***i         0.200000       0.400000   \n",
            "1             2         732     g***r         0.024390       0.200000   \n",
            "2             3         732     t***p         0.142857       0.200000   \n",
            "3             4         732     7***n         0.100000       0.200000   \n",
            "4             5         900     z***z         0.051282       0.222222   \n",
            "...         ...         ...       ...              ...            ...   \n",
            "6316      15129         760     l***t         0.333333       0.160000   \n",
            "6317      15137        2481     s***s         0.030612       0.130435   \n",
            "6318      15138        2481     h***t         0.055556       0.043478   \n",
            "6319      15139        2481     d***d         0.076923       0.086957   \n",
            "6320      15144        2481     a***l         0.016393       0.043478   \n",
            "\n",
            "      Successive_Outbidding  Last_Bidding  Auction_Bids  \\\n",
            "0                       0.0      0.000028      0.000000   \n",
            "1                       0.0      0.013123      0.000000   \n",
            "2                       0.0      0.003042      0.000000   \n",
            "3                       0.0      0.097477      0.000000   \n",
            "4                       0.0      0.001318      0.000000   \n",
            "...                     ...           ...           ...   \n",
            "6316                    1.0      0.738557      0.280000   \n",
            "6317                    0.0      0.005754      0.217391   \n",
            "6318                    0.0      0.015663      0.217391   \n",
            "6319                    0.0      0.068694      0.217391   \n",
            "6320                    0.0      0.340351      0.217391   \n",
            "\n",
            "      Starting_Price_Average  Early_Bidding  Winning_Ratio  Auction_Duration  \\\n",
            "0                   0.993593       0.000028       0.666667                 5   \n",
            "1                   0.993593       0.013123       0.944444                 5   \n",
            "2                   0.993593       0.003042       1.000000                 5   \n",
            "3                   0.993593       0.097477       1.000000                 5   \n",
            "4                   0.000000       0.001242       0.500000                 7   \n",
            "...                      ...            ...            ...               ...   \n",
            "6316                0.993593       0.686358       0.888889                 3   \n",
            "6317                0.993593       0.000010       0.878788                 7   \n",
            "6318                0.993593       0.015663       0.000000                 7   \n",
            "6319                0.993593       0.000415       0.000000                 7   \n",
            "6320                0.993593       0.340351       0.000000                 7   \n",
            "\n",
            "      Class  \n",
            "0         0  \n",
            "1         0  \n",
            "2         0  \n",
            "3         0  \n",
            "4         0  \n",
            "...     ...  \n",
            "6316      1  \n",
            "6317      0  \n",
            "6318      0  \n",
            "6319      0  \n",
            "6320      0  \n",
            "\n",
            "[6321 rows x 13 columns]\n"
          ]
        }
      ]
    },
    {
      "cell_type": "code",
      "source": [
        "y=d['Class']\n",
        "x1=d['Record_ID']\n",
        "print(y,x1)\n",
        "from matplotlib import pyplot as pt\n",
        "pt.scatter(y,x1)"
      ],
      "metadata": {
        "colab": {
          "base_uri": "https://localhost:8080/",
          "height": 682
        },
        "id": "AxfKxwlU42Aq",
        "outputId": "18e1701f-7951-45ab-d7b6-cb38113ead34"
      },
      "execution_count": 6,
      "outputs": [
        {
          "output_type": "stream",
          "name": "stdout",
          "text": [
            "0       0\n",
            "1       0\n",
            "2       0\n",
            "3       0\n",
            "4       0\n",
            "       ..\n",
            "6316    1\n",
            "6317    0\n",
            "6318    0\n",
            "6319    0\n",
            "6320    0\n",
            "Name: Class, Length: 6321, dtype: int64 0           1\n",
            "1           2\n",
            "2           3\n",
            "3           4\n",
            "4           5\n",
            "        ...  \n",
            "6316    15129\n",
            "6317    15137\n",
            "6318    15138\n",
            "6319    15139\n",
            "6320    15144\n",
            "Name: Record_ID, Length: 6321, dtype: int64\n"
          ]
        },
        {
          "output_type": "execute_result",
          "data": {
            "text/plain": [
              "<matplotlib.collections.PathCollection at 0x7ff8b7bf6450>"
            ]
          },
          "metadata": {},
          "execution_count": 6
        },
        {
          "output_type": "display_data",
          "data": {
            "text/plain": [
              "<Figure size 432x288 with 1 Axes>"
            ],
            "image/png": "[encoded data removed]"
          },
          "metadata": {
            "needs_background": "light"
          }
        }
      ]
    },
    {
      "cell_type": "code",
      "source": [
        "y=d['Class']\n",
        "x2=d['Auction_ID']\n",
        "print(y,x2)\n",
        "from matplotlib import pyplot as pt\n",
        "pt.scatter(y,x2)"
      ],
      "metadata": {
        "colab": {
          "base_uri": "https://localhost:8080/",
          "height": 682
        },
        "id": "ndDDJI455Mri",
        "outputId": "cb397e9b-92a3-45c8-c6dd-c0a16ee0ebe6"
      },
      "execution_count": 7,
      "outputs": [
        {
          "output_type": "stream",
          "name": "stdout",
          "text": [
            "0       0\n",
            "1       0\n",
            "2       0\n",
            "3       0\n",
            "4       0\n",
            "       ..\n",
            "6316    1\n",
            "6317    0\n",
            "6318    0\n",
            "6319    0\n",
            "6320    0\n",
            "Name: Class, Length: 6321, dtype: int64 0        732\n",
            "1        732\n",
            "2        732\n",
            "3        732\n",
            "4        900\n",
            "        ... \n",
            "6316     760\n",
            "6317    2481\n",
            "6318    2481\n",
            "6319    2481\n",
            "6320    2481\n",
            "Name: Auction_ID, Length: 6321, dtype: int64\n"
          ]
        },
        {
          "output_type": "execute_result",
          "data": {
            "text/plain": [
              "<matplotlib.collections.PathCollection at 0x7ff8b7b74bd0>"
            ]
          },
          "metadata": {},
          "execution_count": 7
        },
        {
          "output_type": "display_data",
          "data": {
            "text/plain": [
              "<Figure size 432x288 with 1 Axes>"
            ],
            "image/png": "[encoded data removed]"
          },
          "metadata": {
            "needs_background": "light"
          }
        }
      ]
    },
    {
      "cell_type": "code",
      "source": [
        "y=d['Class']\n",
        "x3=d['Bidder_Tendency']\n",
        "print(y,x3)\n",
        "from matplotlib import pyplot as pt\n",
        "pt.scatter(y,x3)"
      ],
      "metadata": {
        "colab": {
          "base_uri": "https://localhost:8080/",
          "height": 682
        },
        "id": "QwIAHCQ35fWR",
        "outputId": "e928c809-f5a1-482a-e404-f4e972d67fe0"
      },
      "execution_count": 8,
      "outputs": [
        {
          "output_type": "stream",
          "name": "stdout",
          "text": [
            "0       0\n",
            "1       0\n",
            "2       0\n",
            "3       0\n",
            "4       0\n",
            "       ..\n",
            "6316    1\n",
            "6317    0\n",
            "6318    0\n",
            "6319    0\n",
            "6320    0\n",
            "Name: Class, Length: 6321, dtype: int64 0       0.200000\n",
            "1       0.024390\n",
            "2       0.142857\n",
            "3       0.100000\n",
            "4       0.051282\n",
            "          ...   \n",
            "6316    0.333333\n",
            "6317    0.030612\n",
            "6318    0.055556\n",
            "6319    0.076923\n",
            "6320    0.016393\n",
            "Name: Bidder_Tendency, Length: 6321, dtype: float64\n"
          ]
        },
        {
          "output_type": "execute_result",
          "data": {
            "text/plain": [
              "<matplotlib.collections.PathCollection at 0x7ff8b7b40cd0>"
            ]
          },
          "metadata": {},
          "execution_count": 8
        },
        {
          "output_type": "display_data",
          "data": {
            "text/plain": [
              "<Figure size 432x288 with 1 Axes>"
            ],
            "image/png": "[encoded data removed]"
          },
          "metadata": {
            "needs_background": "light"
          }
        }
      ]
    },
    {
      "cell_type": "code",
      "source": [
        "y=d['Class']\n",
        "x4=d['Bidding_Ratio']\n",
        "print(y,x4)\n",
        "from matplotlib import pyplot as pt\n",
        "pt.scatter(y,x4)"
      ],
      "metadata": {
        "colab": {
          "base_uri": "https://localhost:8080/",
          "height": 682
        },
        "id": "3alwET6T5pbS",
        "outputId": "9b238885-1974-4fbd-a4fc-ce141d070713"
      },
      "execution_count": 9,
      "outputs": [
        {
          "output_type": "stream",
          "name": "stdout",
          "text": [
            "0       0\n",
            "1       0\n",
            "2       0\n",
            "3       0\n",
            "4       0\n",
            "       ..\n",
            "6316    1\n",
            "6317    0\n",
            "6318    0\n",
            "6319    0\n",
            "6320    0\n",
            "Name: Class, Length: 6321, dtype: int64 0       0.400000\n",
            "1       0.200000\n",
            "2       0.200000\n",
            "3       0.200000\n",
            "4       0.222222\n",
            "          ...   \n",
            "6316    0.160000\n",
            "6317    0.130435\n",
            "6318    0.043478\n",
            "6319    0.086957\n",
            "6320    0.043478\n",
            "Name: Bidding_Ratio, Length: 6321, dtype: float64\n"
          ]
        },
        {
          "output_type": "execute_result",
          "data": {
            "text/plain": [
              "<matplotlib.collections.PathCollection at 0x7ff8b7a96f10>"
            ]
          },
          "metadata": {},
          "execution_count": 9
        },
        {
          "output_type": "display_data",
          "data": {
            "text/plain": [
              "<Figure size 432x288 with 1 Axes>"
            ],
            "image/png": "[encoded data removed]"
          },
          "metadata": {
            "needs_background": "light"
          }
        }
      ]
    },
    {
      "cell_type": "code",
      "source": [
        "y=d['Class']\n",
        "x5=d['Successive_Outbidding']\n",
        "print(y,x5)\n",
        "from matplotlib import pyplot as pt\n",
        "pt.scatter(y,x5)"
      ],
      "metadata": {
        "colab": {
          "base_uri": "https://localhost:8080/",
          "height": 682
        },
        "id": "hK8GPYQ_5-Ld",
        "outputId": "cf04a630-86c6-4d50-cdef-efb269767ac9"
      },
      "execution_count": 10,
      "outputs": [
        {
          "output_type": "stream",
          "name": "stdout",
          "text": [
            "0       0\n",
            "1       0\n",
            "2       0\n",
            "3       0\n",
            "4       0\n",
            "       ..\n",
            "6316    1\n",
            "6317    0\n",
            "6318    0\n",
            "6319    0\n",
            "6320    0\n",
            "Name: Class, Length: 6321, dtype: int64 0       0.0\n",
            "1       0.0\n",
            "2       0.0\n",
            "3       0.0\n",
            "4       0.0\n",
            "       ... \n",
            "6316    1.0\n",
            "6317    0.0\n",
            "6318    0.0\n",
            "6319    0.0\n",
            "6320    0.0\n",
            "Name: Successive_Outbidding, Length: 6321, dtype: float64\n"
          ]
        },
        {
          "output_type": "execute_result",
          "data": {
            "text/plain": [
              "<matplotlib.collections.PathCollection at 0x7ff8b7a4a290>"
            ]
          },
          "metadata": {},
          "execution_count": 10
        },
        {
          "output_type": "display_data",
          "data": {
            "text/plain": [
              "<Figure size 432x288 with 1 Axes>"
            ],
            "image/png": "[encoded data removed]"
          },
          "metadata": {
            "needs_background": "light"
          }
        }
      ]
    },
    {
      "cell_type": "code",
      "source": [
        "y=d['Class']\n",
        "x6=d['Last_Bidding']\n",
        "print(y,x6)\n",
        "from matplotlib import pyplot as pt\n",
        "pt.scatter(y,x6)"
      ],
      "metadata": {
        "colab": {
          "base_uri": "https://localhost:8080/",
          "height": 682
        },
        "id": "pj2_-QFV6LBi",
        "outputId": "ba4049d4-d270-43eb-bf4e-8cf1ed48f77c"
      },
      "execution_count": 11,
      "outputs": [
        {
          "output_type": "stream",
          "name": "stdout",
          "text": [
            "0       0\n",
            "1       0\n",
            "2       0\n",
            "3       0\n",
            "4       0\n",
            "       ..\n",
            "6316    1\n",
            "6317    0\n",
            "6318    0\n",
            "6319    0\n",
            "6320    0\n",
            "Name: Class, Length: 6321, dtype: int64 0       0.000028\n",
            "1       0.013123\n",
            "2       0.003042\n",
            "3       0.097477\n",
            "4       0.001318\n",
            "          ...   \n",
            "6316    0.738557\n",
            "6317    0.005754\n",
            "6318    0.015663\n",
            "6319    0.068694\n",
            "6320    0.340351\n",
            "Name: Last_Bidding, Length: 6321, dtype: float64\n"
          ]
        },
        {
          "output_type": "execute_result",
          "data": {
            "text/plain": [
              "<matplotlib.collections.PathCollection at 0x7ff8b7b74150>"
            ]
          },
          "metadata": {},
          "execution_count": 11
        },
        {
          "output_type": "display_data",
          "data": {
            "text/plain": [
              "<Figure size 432x288 with 1 Axes>"
            ],
            "image/png": "[encoded data removed]"
          },
          "metadata": {
            "needs_background": "light"
          }
        }
      ]
    },
    {
      "cell_type": "code",
      "source": [
        "y=d['Class']\n",
        "x7=d['Auction_Bids']\n",
        "print(y,x7)\n",
        "from matplotlib import pyplot as pt\n",
        "pt.scatter(y,x7)"
      ],
      "metadata": {
        "colab": {
          "base_uri": "https://localhost:8080/",
          "height": 682
        },
        "id": "Dp_uK8Hy6Z62",
        "outputId": "c9ac2b7d-a204-44d4-803b-4997cf7e42cb"
      },
      "execution_count": 12,
      "outputs": [
        {
          "output_type": "stream",
          "name": "stdout",
          "text": [
            "0       0\n",
            "1       0\n",
            "2       0\n",
            "3       0\n",
            "4       0\n",
            "       ..\n",
            "6316    1\n",
            "6317    0\n",
            "6318    0\n",
            "6319    0\n",
            "6320    0\n",
            "Name: Class, Length: 6321, dtype: int64 0       0.000000\n",
            "1       0.000000\n",
            "2       0.000000\n",
            "3       0.000000\n",
            "4       0.000000\n",
            "          ...   \n",
            "6316    0.280000\n",
            "6317    0.217391\n",
            "6318    0.217391\n",
            "6319    0.217391\n",
            "6320    0.217391\n",
            "Name: Auction_Bids, Length: 6321, dtype: float64\n"
          ]
        },
        {
          "output_type": "execute_result",
          "data": {
            "text/plain": [
              "<matplotlib.collections.PathCollection at 0x7ff8b7a04090>"
            ]
          },
          "metadata": {},
          "execution_count": 12
        },
        {
          "output_type": "display_data",
          "data": {
            "text/plain": [
              "<Figure size 432x288 with 1 Axes>"
            ],
            "image/png": "[encoded data removed]"
          },
          "metadata": {
            "needs_background": "light"
          }
        }
      ]
    },
    {
      "cell_type": "code",
      "source": [
        "y=d['Class']\n",
        "x8=d['Starting_Price_Average']\n",
        "print(y,x8)\n",
        "from matplotlib import pyplot as pt\n",
        "pt.scatter(y,x8)"
      ],
      "metadata": {
        "colab": {
          "base_uri": "https://localhost:8080/",
          "height": 682
        },
        "id": "4Wd1XGXi6jgr",
        "outputId": "c8eca750-b1d5-43a5-c896-932fccca1643"
      },
      "execution_count": 13,
      "outputs": [
        {
          "output_type": "stream",
          "name": "stdout",
          "text": [
            "0       0\n",
            "1       0\n",
            "2       0\n",
            "3       0\n",
            "4       0\n",
            "       ..\n",
            "6316    1\n",
            "6317    0\n",
            "6318    0\n",
            "6319    0\n",
            "6320    0\n",
            "Name: Class, Length: 6321, dtype: int64 0       0.993593\n",
            "1       0.993593\n",
            "2       0.993593\n",
            "3       0.993593\n",
            "4       0.000000\n",
            "          ...   \n",
            "6316    0.993593\n",
            "6317    0.993593\n",
            "6318    0.993593\n",
            "6319    0.993593\n",
            "6320    0.993593\n",
            "Name: Starting_Price_Average, Length: 6321, dtype: float64\n"
          ]
        },
        {
          "output_type": "execute_result",
          "data": {
            "text/plain": [
              "<matplotlib.collections.PathCollection at 0x7ff8b7951290>"
            ]
          },
          "metadata": {},
          "execution_count": 13
        },
        {
          "output_type": "display_data",
          "data": {
            "text/plain": [
              "<Figure size 432x288 with 1 Axes>"
            ],
            "image/png": "[encoded data removed]"
          },
          "metadata": {
            "needs_background": "light"
          }
        }
      ]
    },
    {
      "cell_type": "code",
      "source": [
        "y=d['Class']\n",
        "x9=d['Early_Bidding']\n",
        "print(y,x9)\n",
        "from matplotlib import pyplot as pt\n",
        "pt.scatter(y,x9)"
      ],
      "metadata": {
        "colab": {
          "base_uri": "https://localhost:8080/",
          "height": 682
        },
        "id": "9_oApHqo6vkp",
        "outputId": "3e6fd1a4-c84b-4ce1-f382-c2492f09567a"
      },
      "execution_count": 14,
      "outputs": [
        {
          "output_type": "stream",
          "name": "stdout",
          "text": [
            "0       0\n",
            "1       0\n",
            "2       0\n",
            "3       0\n",
            "4       0\n",
            "       ..\n",
            "6316    1\n",
            "6317    0\n",
            "6318    0\n",
            "6319    0\n",
            "6320    0\n",
            "Name: Class, Length: 6321, dtype: int64 0       0.000028\n",
            "1       0.013123\n",
            "2       0.003042\n",
            "3       0.097477\n",
            "4       0.001242\n",
            "          ...   \n",
            "6316    0.686358\n",
            "6317    0.000010\n",
            "6318    0.015663\n",
            "6319    0.000415\n",
            "6320    0.340351\n",
            "Name: Early_Bidding, Length: 6321, dtype: float64\n"
          ]
        },
        {
          "output_type": "execute_result",
          "data": {
            "text/plain": [
              "<matplotlib.collections.PathCollection at 0x7ff8b78bf550>"
            ]
          },
          "metadata": {},
          "execution_count": 14
        },
        {
          "output_type": "display_data",
          "data": {
            "text/plain": [
              "<Figure size 432x288 with 1 Axes>"
            ],
            "image/png": "[encoded data removed]"
          },
          "metadata": {
            "needs_background": "light"
          }
        }
      ]
    },
    {
      "cell_type": "code",
      "source": [
        "y=d['Class']\n",
        "x10=d['Winning_Ratio']\n",
        "print(y,x10)\n",
        "from matplotlib import pyplot as pt\n",
        "pt.scatter(y,x10)"
      ],
      "metadata": {
        "colab": {
          "base_uri": "https://localhost:8080/",
          "height": 682
        },
        "id": "sVyGr7z7654B",
        "outputId": "6990fa29-59d7-4b62-91aa-e3a0d56c642e"
      },
      "execution_count": 15,
      "outputs": [
        {
          "output_type": "stream",
          "name": "stdout",
          "text": [
            "0       0\n",
            "1       0\n",
            "2       0\n",
            "3       0\n",
            "4       0\n",
            "       ..\n",
            "6316    1\n",
            "6317    0\n",
            "6318    0\n",
            "6319    0\n",
            "6320    0\n",
            "Name: Class, Length: 6321, dtype: int64 0       0.666667\n",
            "1       0.944444\n",
            "2       1.000000\n",
            "3       1.000000\n",
            "4       0.500000\n",
            "          ...   \n",
            "6316    0.888889\n",
            "6317    0.878788\n",
            "6318    0.000000\n",
            "6319    0.000000\n",
            "6320    0.000000\n",
            "Name: Winning_Ratio, Length: 6321, dtype: float64\n"
          ]
        },
        {
          "output_type": "execute_result",
          "data": {
            "text/plain": [
              "<matplotlib.collections.PathCollection at 0x7ff8b784ad10>"
            ]
          },
          "metadata": {},
          "execution_count": 15
        },
        {
          "output_type": "display_data",
          "data": {
            "text/plain": [
              "<Figure size 432x288 with 1 Axes>"
            ],
            "image/png": "[encoded data removed]"
          },
          "metadata": {
            "needs_background": "light"
          }
        }
      ]
    },
    {
      "cell_type": "code",
      "source": [
        "y=d['Class']\n",
        "x11=d['Auction_Duration']\n",
        "print(y,x11)\n",
        "from matplotlib import pyplot as pt\n",
        "pt.scatter(y,x11)"
      ],
      "metadata": {
        "colab": {
          "base_uri": "https://localhost:8080/",
          "height": 682
        },
        "id": "6er3roIm7Eh9",
        "outputId": "c61078d8-db60-4ddf-e3fc-440a45948fe5"
      },
      "execution_count": 16,
      "outputs": [
        {
          "output_type": "stream",
          "name": "stdout",
          "text": [
            "0       0\n",
            "1       0\n",
            "2       0\n",
            "3       0\n",
            "4       0\n",
            "       ..\n",
            "6316    1\n",
            "6317    0\n",
            "6318    0\n",
            "6319    0\n",
            "6320    0\n",
            "Name: Class, Length: 6321, dtype: int64 0       5\n",
            "1       5\n",
            "2       5\n",
            "3       5\n",
            "4       7\n",
            "       ..\n",
            "6316    3\n",
            "6317    7\n",
            "6318    7\n",
            "6319    7\n",
            "6320    7\n",
            "Name: Auction_Duration, Length: 6321, dtype: int64\n"
          ]
        },
        {
          "output_type": "execute_result",
          "data": {
            "text/plain": [
              "<matplotlib.collections.PathCollection at 0x7ff8b780eb50>"
            ]
          },
          "metadata": {},
          "execution_count": 16
        },
        {
          "output_type": "display_data",
          "data": {
            "text/plain": [
              "<Figure size 432x288 with 1 Axes>"
            ],
            "image/png": "[encoded data removed]"
          },
          "metadata": {
            "needs_background": "light"
          }
        }
      ]
    }
  ]
}